{
 "cells": [
  {
   "cell_type": "code",
   "execution_count": 1,
   "id": "initial_id",
   "metadata": {
    "collapsed": true,
    "ExecuteTime": {
     "end_time": "2023-11-28T09:47:47.414569Z",
     "start_time": "2023-11-28T09:47:46.657922Z"
    }
   },
   "outputs": [],
   "source": [
    "from task4.solver import solve_4_3, solve_4_2\n",
    "import json"
   ]
  },
  {
   "cell_type": "code",
   "execution_count": 2,
   "outputs": [],
   "source": [
    "def print_4_2(res):\n",
    "    res = json.loads(res)\n",
    "    for m in res['approximation_by_method']:\n",
    "        print(m['name'])\n",
    "        print('value:', m['value'])\n",
    "        print('error:', m['error'], '\\n')\n",
    "        \n",
    "def print_4_3(res):\n",
    "    res = json.loads(res)\n",
    "    print('True Value:', res['true_value'])\n",
    "    print('METHOD NAME       |     RAW     |   REFINED   |  RAW ERROR  | REFINED ERROR')\n",
    "    for m in res['approximation_by_method']:\n",
    "        print(f\"{m['name']:18} {str(m['raw_value'])[:12]}  {str(m['refined_value'])[:12]}  {str(m['raw_error'])[:12]}  {str(m['refined_error'])[:12]}\")"
   ],
   "metadata": {
    "collapsed": false,
    "ExecuteTime": {
     "end_time": "2023-11-28T09:47:47.440642Z",
     "start_time": "2023-11-28T09:47:47.425483Z"
    }
   },
   "id": "4571f985306c57eb"
  },
  {
   "cell_type": "code",
   "execution_count": 3,
   "outputs": [
    {
     "name": "stdout",
     "output_type": "stream",
     "text": [
      "True Value: -1023.9362943765349\n",
      "METHOD NAME       |     RAW     |   REFINED   |  RAW ERROR  | REFINED ERROR\n",
      "Rectangle Left     -1006.295253  -1026.669657  17.641041316  2.7333629105\n",
      "Rectangle Right    -986.8421959  -1026.669657  37.094098430  2.7333629105\n",
      "Rectangle Middle   -1037.504625  -1023.938991  13.568331036  0.0026971689\n",
      "Trapeze            -996.5687245  -1023.933208  27.367569873  0.0030855243\n",
      "Simpson's          -1023.859325  -1023.936294  0.0769692667  8.7240870152\n"
     ]
    }
   ],
   "source": [
    "function = 'sin(x) + 2**x - x**3'\n",
    "left = 1\n",
    "right = 10\n",
    "m = 10\n",
    "l = 10\n",
    "\n",
    "print_4_3(solve_4_3(function, left, right, m, l))"
   ],
   "metadata": {
    "collapsed": false,
    "ExecuteTime": {
     "end_time": "2023-11-28T09:47:47.954412Z",
     "start_time": "2023-11-28T09:47:47.437299Z"
    }
   },
   "id": "e2b09b3f26bbc05b"
  },
  {
   "cell_type": "code",
   "execution_count": 3,
   "outputs": [],
   "source": [],
   "metadata": {
    "collapsed": false,
    "ExecuteTime": {
     "end_time": "2023-11-28T09:47:47.954913Z",
     "start_time": "2023-11-28T09:47:47.943144Z"
    }
   },
   "id": "75eb46d4fdd2d145"
  }
 ],
 "metadata": {
  "kernelspec": {
   "display_name": "Python 3",
   "language": "python",
   "name": "python3"
  },
  "language_info": {
   "codemirror_mode": {
    "name": "ipython",
    "version": 2
   },
   "file_extension": ".py",
   "mimetype": "text/x-python",
   "name": "python",
   "nbconvert_exporter": "python",
   "pygments_lexer": "ipython2",
   "version": "2.7.6"
  }
 },
 "nbformat": 4,
 "nbformat_minor": 5
}
