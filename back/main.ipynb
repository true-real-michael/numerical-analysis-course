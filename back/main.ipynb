{
 "cells": [
  {
   "cell_type": "code",
   "execution_count": 1,
   "id": "initial_id",
   "metadata": {
    "collapsed": true,
    "ExecuteTime": {
     "end_time": "2023-11-20T09:58:36.158691Z",
     "start_time": "2023-11-20T09:58:35.778065Z"
    }
   },
   "outputs": [],
   "source": [
    "from task4.solver import solve_4_3, solve_4_2\n",
    "import json"
   ]
  },
  {
   "cell_type": "code",
   "execution_count": 36,
   "outputs": [],
   "source": [
    "def print_4_2(res):\n",
    "    res = json.loads(res)\n",
    "    for m in res['approximation_by_method']:\n",
    "        print(m['name'])\n",
    "        print('value:', m['value'])\n",
    "        print('error:', m['error'], '\\n')\n",
    "        \n",
    "def print_4_3(res):\n",
    "    res = json.loads(res)\n",
    "    print('True Value:', res['true_value'])\n",
    "    print('METHOD NAME       |     RAW     |   REFINED   |  RAW ERROR  | REFINED ERROR')\n",
    "    for m in res['approximation_by_method']:\n",
    "        print(f\"{m['name']:18} {str(m['raw_value'])[:12]}  {str(m['refined_value'])[:12]}  {str(m['raw_error'])[:12]}  {str(m['refined_error'])[:12]}\")"
   ],
   "metadata": {
    "collapsed": false,
    "ExecuteTime": {
     "end_time": "2023-11-20T10:07:53.753406Z",
     "start_time": "2023-11-20T10:07:53.748463Z"
    }
   },
   "id": "4571f985306c57eb"
  },
  {
   "cell_type": "code",
   "execution_count": 37,
   "outputs": [
    {
     "name": "stdout",
     "output_type": "stream",
     "text": [
      "True Value: -1023.9362943765349\n",
      "METHOD NAME       |     RAW     |   REFINED   |  RAW ERROR  | REFINED ERROR\n",
      "Rectangle Left     -1006.295253  -1026.669657  17.641041316  2.7333629105\n",
      "Rectangle Right    -986.8421959  -1026.669657  37.094098430  2.7333629105\n",
      "Rectangle Middle   -1037.504625  -1023.938991  13.568331036  0.0026971689\n",
      "Trapeze            -996.5687245  -1023.933208  27.367569873  0.0030855243\n",
      "Simpson's          -1023.859325  -1023.936294  0.0769692667  8.7240870152\n"
     ]
    }
   ],
   "source": [
    "function = 'sin(x) + 2**x - x**3'\n",
    "left = 1\n",
    "right = 10\n",
    "m = 10\n",
    "l = 10\n",
    "\n",
    "print_4_3(solve_4_3(function, left, right, m, l))"
   ],
   "metadata": {
    "collapsed": false,
    "ExecuteTime": {
     "end_time": "2023-11-20T10:07:54.400653Z",
     "start_time": "2023-11-20T10:07:54.299536Z"
    }
   },
   "id": "e2b09b3f26bbc05b"
  },
  {
   "cell_type": "code",
   "execution_count": 4,
   "outputs": [
    {
     "name": "stdout",
     "output_type": "stream",
     "text": [
      "<class 'str'>\n",
      "<class 'str'>\n",
      "<class 'str'>\n",
      "<class 'str'>\n",
      "<class 'str'>\n",
      "<class 'str'>\n",
      "<class 'str'>\n",
      "<class 'str'>\n",
      "<class 'str'>\n",
      "<class 'str'>\n"
     ]
    }
   ],
   "source": [
    "import os\n",
    "import sys\n",
    "import json\n",
    "\n",
    "path = sys.argv[-1]\n",
    "path = '.'\n",
    "\n",
    "res = []\n",
    "\n",
    "for image in os.listdir(path):\n",
    "    res.append({\n",
    "        \"image\": image,\n",
    "        \"annotation\": ['a farmer in the field']\n",
    "    })\n",
    "\n",
    "with open('coco_karpathy_test.json', 'w') as fout:\n",
    "    json.dump(res, fout)\n",
    "    \n",
    "with open('coco_karpathy_val.json', 'w') as fout:\n",
    "    json.dump(res, fout)\n"
   ],
   "metadata": {
    "collapsed": false,
    "ExecuteTime": {
     "end_time": "2023-11-20T12:44:19.450323Z",
     "start_time": "2023-11-20T12:44:19.447391Z"
    }
   },
   "id": "330321f0ff0b8996"
  },
  {
   "cell_type": "code",
   "execution_count": null,
   "outputs": [],
   "source": [],
   "metadata": {
    "collapsed": false
   },
   "id": "75eb46d4fdd2d145"
  }
 ],
 "metadata": {
  "kernelspec": {
   "display_name": "Python 3",
   "language": "python",
   "name": "python3"
  },
  "language_info": {
   "codemirror_mode": {
    "name": "ipython",
    "version": 2
   },
   "file_extension": ".py",
   "mimetype": "text/x-python",
   "name": "python",
   "nbconvert_exporter": "python",
   "pygments_lexer": "ipython2",
   "version": "2.7.6"
  }
 },
 "nbformat": 4,
 "nbformat_minor": 5
}
